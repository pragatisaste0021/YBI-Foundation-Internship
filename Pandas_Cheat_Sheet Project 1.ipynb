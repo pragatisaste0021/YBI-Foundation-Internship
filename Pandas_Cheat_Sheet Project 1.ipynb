{
  "nbformat": 4,
  "nbformat_minor": 0,
  "metadata": {
    "colab": {
      "name": "Copy of Python Cheat_Sheet.ipynb",
      "provenance": []
    },
    "kernelspec": {
      "name": "python3",
      "display_name": "Python 3"
    },
    "language_info": {
      "name": "python"
    }
  },
  "cells": [
    {
      "cell_type": "markdown",
      "source": [
        "## **Import Convention**"
      ],
      "metadata": {
        "id": "cs6TeW4mZ4IO"
      }
    },
    {
      "cell_type": "code",
      "source": [
        "import pandas as pd"
      ],
      "metadata": {
        "id": "OGwWRcTFZuez"
      },
      "execution_count": null,
      "outputs": []
    },
    {
      "cell_type": "markdown",
      "source": [
        "## **Pandas Data Structure**"
      ],
      "metadata": {
        "id": "pvnHkDyCaK6_"
      }
    },
    {
      "cell_type": "markdown",
      "source": [
        "Series"
      ],
      "metadata": {
        "id": "NcuWSmZLabs6"
      }
    },
    {
      "cell_type": "code",
      "source": [
        "s = pd.Series([1,2,3,4],index=['a','b','c','d'])"
      ],
      "metadata": {
        "id": "CqfiOeoIavCG"
      },
      "execution_count": null,
      "outputs": []
    },
    {
      "cell_type": "markdown",
      "source": [
        "Data Frame"
      ],
      "metadata": {
        "id": "GE_7NKEibQFm"
      }
    },
    {
      "cell_type": "code",
      "source": [
        "data_mobile = {'Mobile':['iphone','Samsung','Redmi'],'Color':['Red','White','Black'],'Price':[High,Medium,Low]}\n",
        "df = pd.DataFrame(data_mobile,columns=['Mobile','Color','Price'])"
      ],
      "metadata": {
        "id": "6-v3mxMObWOs"
      },
      "execution_count": null,
      "outputs": []
    },
    {
      "cell_type": "markdown",
      "source": [
        "## **Importing Convention**"
      ],
      "metadata": {
        "id": "1tbbbU7Yc0_f"
      }
    },
    {
      "cell_type": "markdown",
      "source": [
        "Reader Functions"
      ],
      "metadata": {
        "id": "gblFzu-gePS9"
      }
    },
    {
      "cell_type": "code",
      "source": [
        "pd.read_csv(\"filename\")\n",
        "pd.read_table(\"filename\")\n",
        "pd.read_excel(\"filename\")\n",
        "pd.read_sql(query,connection_object)\n",
        "pd.read_json(json_string)"
      ],
      "metadata": {
        "id": "sb7wtlJVew3q"
      },
      "execution_count": null,
      "outputs": []
    },
    {
      "cell_type": "markdown",
      "source": [
        "Write Operations"
      ],
      "metadata": {
        "id": "MrOsKY-Qe4Ay"
      }
    },
    {
      "cell_type": "code",
      "source": [
        "df.to_csv(\"filename\")\n",
        "df.to_excel(\"filename\")\n",
        "df.to_sql(table_name,connection_object)\n",
        "df.to_json(\"filename\")"
      ],
      "metadata": {
        "id": "k20pJaytfRUX"
      },
      "execution_count": null,
      "outputs": []
    },
    {
      "cell_type": "markdown",
      "source": [
        "## **Create Test/Fake Data**"
      ],
      "metadata": {
        "id": "GEWtYsLZf1Lk"
      }
    },
    {
      "cell_type": "code",
      "source": [
        "pd.DataFrame(np.random.rand(4,3))\n",
        "pd.Series(new_series)"
      ],
      "metadata": {
        "id": "qnlX8GhlgSYu"
      },
      "execution_count": null,
      "outputs": []
    },
    {
      "cell_type": "markdown",
      "source": [
        ""
      ],
      "metadata": {
        "id": "kdVLbggehJD0"
      }
    },
    {
      "cell_type": "markdown",
      "source": [
        "## **View DataFrame contents**"
      ],
      "metadata": {
        "id": "fSXjOxO7hK8J"
      }
    },
    {
      "cell_type": "markdown",
      "source": [
        ""
      ],
      "metadata": {
        "id": "b94ML7Y2hZ4e"
      }
    },
    {
      "cell_type": "code",
      "source": [
        "df.head(n)\n",
        "df.tail(n)\n",
        "df.shape()\n",
        "df.info()\n",
        "df.describe()"
      ],
      "metadata": {
        "id": "kVz-wd7dhagC"
      },
      "execution_count": null,
      "outputs": []
    },
    {
      "cell_type": "markdown",
      "source": [
        "## **Selecting**"
      ],
      "metadata": {
        "id": "-0UhuL1xhvZJ"
      }
    },
    {
      "cell_type": "markdown",
      "source": [
        "Selecting by position using iloc"
      ],
      "metadata": {
        "id": "noQf3w0QiNyB"
      }
    },
    {
      "cell_type": "code",
      "source": [
        "df.iloc[0]\n",
        "df.iloc[1]\n",
        "df.iloc[-1]\n",
        "df.iloc[:,0]\n",
        "df.iloc[:,1]"
      ],
      "metadata": {
        "id": "uxXQfV4xihqJ"
      },
      "execution_count": null,
      "outputs": []
    }
  ]
}