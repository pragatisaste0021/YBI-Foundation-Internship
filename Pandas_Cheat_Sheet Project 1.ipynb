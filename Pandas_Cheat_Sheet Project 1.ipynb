{
  "nbformat": 4,
  "nbformat_minor": 0,
  "metadata": {
    "colab": {
      "name": "Python Cheat_Sheet.ipynb",
      "provenance": []
    },
    "kernelspec": {
      "name": "python3",
      "display_name": "Python 3"
    },
    "language_info": {
      "name": "python"
    }
  },
  "cells": [
    {
      "cell_type": "markdown",
      "source": [
        "## **Import Convention**"
      ],
      "metadata": {
        "id": "cs6TeW4mZ4IO"
      }
    },
    {
      "cell_type": "code",
      "source": [
        "import pandas as pd"
      ],
      "metadata": {
        "id": "OGwWRcTFZuez"
      },
      "execution_count": null,
      "outputs": []
    },
    {
      "cell_type": "markdown",
      "source": [
        "## **Pandas Data Structure**"
      ],
      "metadata": {
        "id": "pvnHkDyCaK6_"
      }
    },
    {
      "cell_type": "markdown",
      "source": [
        "**Series - Series is a one-dimensional labeled array that can hold any data type.**"
      ],
      "metadata": {
        "id": "NcuWSmZLabs6"
      }
    },
    {
      "cell_type": "code",
      "source": [
        "s = pd.Series([1,2,3,4],index=['a','b','c','d'])"
      ],
      "metadata": {
        "id": "CqfiOeoIavCG"
      },
      "execution_count": null,
      "outputs": []
    },
    {
      "cell_type": "markdown",
      "source": [
        "**Data Frame - DataFrame is a two-dimensional, potentially heterogeneous tabular data structure.**"
      ],
      "metadata": {
        "id": "GE_7NKEibQFm"
      }
    },
    {
      "cell_type": "code",
      "source": [
        "data_mobile = {'Mobile':['iphone','Samsung','Redmi'],'Color':['Red','White','Black'],'Price':[High,Medium,Low]}\n",
        "df = pd.DataFrame(data_mobile,columns=['Mobile','Color','Price'])\n",
        "print(df)"
      ],
      "metadata": {
        "id": "6-v3mxMObWOs"
      },
      "execution_count": null,
      "outputs": []
    },
    {
      "cell_type": "markdown",
      "source": [
        "## **Importing Convention**"
      ],
      "metadata": {
        "id": "1tbbbU7Yc0_f"
      }
    },
    {
      "cell_type": "markdown",
      "source": [
        "**Reade Functionsr** "
      ],
      "metadata": {
        "id": "gblFzu-gePS9"
      }
    },
    {
      "cell_type": "code",
      "source": [
        "pd.read_csv(\"filename\")\n",
        "pd.read_table(\"filename\")\n",
        "pd.read_excel(\"filename\")\n",
        "pd.read_sql(query,connection_object)\n",
        "pd.read_json(json_string)"
      ],
      "metadata": {
        "id": "sb7wtlJVew3q"
      },
      "execution_count": null,
      "outputs": []
    },
    {
      "cell_type": "markdown",
      "source": [
        "**Write Operations**"
      ],
      "metadata": {
        "id": "MrOsKY-Qe4Ay"
      }
    },
    {
      "cell_type": "code",
      "source": [
        "df.to_csv(\"filename\")\n",
        "df.to_excel(\"filename\")\n",
        "df.to_sql(table_name,connection_object)\n",
        "df.to_json(\"filename\")"
      ],
      "metadata": {
        "id": "k20pJaytfRUX"
      },
      "execution_count": null,
      "outputs": []
    },
    {
      "cell_type": "markdown",
      "source": [
        "## **Create Test/Fake Data**"
      ],
      "metadata": {
        "id": "GEWtYsLZf1Lk"
      }
    },
    {
      "cell_type": "code",
      "source": [
        "pd.DataFrame(np.random.rand(4,3))\n",
        "pd.Series(new_series)"
      ],
      "metadata": {
        "id": "qnlX8GhlgSYu"
      },
      "execution_count": null,
      "outputs": []
    },
    {
      "cell_type": "markdown",
      "source": [
        "## **Operations**\n",
        "\n",
        "\n",
        "\n"
      ],
      "metadata": {
        "id": "kdVLbggehJD0"
      }
    },
    {
      "cell_type": "markdown",
      "source": [
        " **View DataFrame contents**"
      ],
      "metadata": {
        "id": "fSXjOxO7hK8J"
      }
    },
    {
      "cell_type": "markdown",
      "source": [
        ""
      ],
      "metadata": {
        "id": "b94ML7Y2hZ4e"
      }
    },
    {
      "cell_type": "code",
      "source": [
        "df.head(n)                                           # look at first n rows of the DataFrame \n",
        "df.tail(n)                                           # look at last n rows of the DataFrame \n",
        "df.shape()                                           # gives the number of rows and columns \n",
        "df.info()                                            # information of Index, Datatype and Memory \n",
        "df.describe()                                        # summary ststistics for numerical columns "
      ],
      "metadata": {
        "id": "kVz-wd7dhagC"
      },
      "execution_count": null,
      "outputs": []
    },
    {
      "cell_type": "markdown",
      "source": [
        "**Selecting**"
      ],
      "metadata": {
        "id": "-0UhuL1xhvZJ"
      }
    },
    {
      "cell_type": "markdown",
      "source": [
        "Selecting by position using iloc"
      ],
      "metadata": {
        "id": "noQf3w0QiNyB"
      }
    },
    {
      "cell_type": "code",
      "source": [
        "df.iloc[0]                                           # select first row of data frame %%\n",
        "df.iloc[1]                                           # select second row of data frame %%\n",
        "df.iloc[-1]                                          # select last row of data frame %%\n",
        "df.iloc[:,0]                                         # select first column of data frame %%\n",
        "df.iloc[:,1]                                         # select second column of data frame %%"
      ],
      "metadata": {
        "id": "uxXQfV4xihqJ"
      },
      "execution_count": null,
      "outputs": []
    },
    {
      "cell_type": "markdown",
      "source": [
        "Selecting by label using loc"
      ],
      "metadata": {
        "id": "p8jHL0jN2ToY"
      }
    },
    {
      "cell_type": "code",
      "source": [
        "df.loc([0],[column labels])                          # select single value by row position & column labels \n",
        "df.loc['row1':'row2':'column1':'column3']            # select & slicing on labels "
      ],
      "metadata": {
        "id": "L-FRD0P82a9o"
      },
      "execution_count": null,
      "outputs": []
    },
    {
      "cell_type": "markdown",
      "source": [
        " **Sorting**"
      ],
      "metadata": {
        "id": "PiwKCeS325MW"
      }
    },
    {
      "cell_type": "code",
      "source": [
        "df.sort_index()                                      # sorts by labels along an axis \n",
        "df.sort_values(column1)                              # sorts values by column1 in ascending order \n",
        "df.sort_values(column2,ascending=False)              # sorts values by column2 in desending order "
      ],
      "metadata": {
        "id": "KjXJLrM73GKr"
      },
      "execution_count": null,
      "outputs": []
    },
    {
      "cell_type": "markdown",
      "source": [
        " **Groupby**"
      ],
      "metadata": {
        "id": "zXSgwQSt4C_y"
      }
    },
    {
      "cell_type": "code",
      "source": [
        "df.groupby(column)                                   # returns a groupby object for values from one column \n",
        "df.groupby([column1,column2])                        # returns a groupby object values from multiple columns \n",
        "df.groupby(column1)[column2].mean()                  # returns the mean of the values in column2, grouped by the values in column1 \n",
        "df.groupby(column1)[column2].median()                # returns the mean of the values in column2, grouped by the values in column1 "
      ],
      "metadata": {
        "id": "f15z4a3W4KEH"
      },
      "execution_count": null,
      "outputs": []
    },
    {
      "cell_type": "markdown",
      "source": [
        "## **Functions**"
      ],
      "metadata": {
        "id": "53ecxrGg5zUa"
      }
    },
    {
      "cell_type": "code",
      "source": [
        "Mean: df.mean()                                      # mean of all columns \n",
        "Median: df.median()                                  # median of each column \n",
        "Standard Deviation: df.std()                         # standard deviation of each column \n",
        "Max: df.max()                                        # highest value in each column \n",
        "Min: df.min()                                        # lowest value in each column \n",
        "Count: df.count()                                    # number of non-null\n",
        "Describe: df.describe                                # summary statistics for numerical columns "
      ],
      "metadata": {
        "id": "0-9i3p_h577K"
      },
      "execution_count": null,
      "outputs": []
    },
    {
      "cell_type": "markdown",
      "source": [
        "## **Plotting**"
      ],
      "metadata": {
        "id": "gcmG2a_36rMI"
      }
    },
    {
      "cell_type": "markdown",
      "source": [
        "**Data Visualization with Pandas is carried out in the following ways:**\n",
        "\n",
        "*   **Histogram**\n",
        "*   **Scatter Plot**"
      ],
      "metadata": {
        "id": "xXztRZss7Jk3"
      }
    },
    {
      "cell_type": "code",
      "source": [
        "Histogram : df.plot.hist()\n",
        "Scatter Plot : df.plot.scatter(x='column1',y='column2')"
      ],
      "metadata": {
        "id": "UbsmsXky773X"
      },
      "execution_count": null,
      "outputs": []
    }
  ]
}